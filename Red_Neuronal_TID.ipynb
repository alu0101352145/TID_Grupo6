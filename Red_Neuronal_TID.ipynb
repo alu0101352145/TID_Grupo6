{
  "nbformat": 4,
  "nbformat_minor": 0,
  "metadata": {
    "colab": {
      "name": "Red Neuronal TID",
      "provenance": [],
      "collapsed_sections": [],
      "toc_visible": true
    },
    "kernelspec": {
      "name": "python3",
      "display_name": "Python 3"
    },
    "language_info": {
      "name": "python"
    }
  },
  "cells": [
    {
      "cell_type": "markdown",
      "source": [
        "# Informe de Aplicación del Perceptrón Simple y Multicapa al conjunto de datos del grupo 6\n",
        "\n",
        "Grupo:\n",
        "\n",
        "Juan Guillermo Zafra\n",
        "\n",
        "Juan Salvador Magariños Alba\n",
        "\n",
        "Jorge Cabrera Rodríguez\n",
        "\n",
        "Jorge González Delgado\n"
      ],
      "metadata": {
        "id": "ZLHYrTgnLR7S"
      }
    },
    {
      "cell_type": "markdown",
      "source": [
        "# 1. Carga de librerías"
      ],
      "metadata": {
        "id": "qPHObSqULZp0"
      }
    },
    {
      "cell_type": "code",
      "execution_count": 1,
      "metadata": {
        "id": "U9yX2U8qLJGS"
      },
      "outputs": [],
      "source": [
        "import numpy as np\n",
        "import matplotlib.pyplot as plt\n",
        "from sklearn import datasets\n",
        "from sklearn import preprocessing\n",
        "from sklearn.model_selection import train_test_split\n",
        "from sklearn.linear_model import Perceptron\n",
        "from sklearn.neural_network import MLPClassifier\n",
        "from sklearn.metrics import log_loss, accuracy_score, classification_report, confusion_matrix\n",
        "from sklearn.metrics import roc_curve\n",
        "from sklearn.metrics import roc_auc_score\n",
        "from datetime import datetime"
      ]
    },
    {
      "cell_type": "markdown",
      "source": [
        "# 2. Carga de los datos"
      ],
      "metadata": {
        "id": "4wizXo1PLcm4"
      }
    },
    {
      "cell_type": "markdown",
      "source": [
        "Se cargan un fichero txt con los datos de diferentes especímenes de trigo pertenecientes a una de tres categorías, 1, 2 o 3. La tabla tiene un total de 210 instancias, cada una con 8 variables, siendo una de ellas la clase (1, 2 o 3)."
      ],
      "metadata": {
        "id": "rqy9Gt7LLrmg"
      }
    },
    {
      "cell_type": "code",
      "source": [
        "seed_stats = np.loadtxt(\"seeds_dataset.txt\", dtype=float, delimiter='\\t')\n",
        "print(seed_stats)\n",
        "(n_samples, n_features) = seed_stats.shape\n",
        "print(f'Rows: {n_samples}')\n",
        "print(f'Columns: {n_features}')"
      ],
      "metadata": {
        "colab": {
          "base_uri": "https://localhost:8080/"
        },
        "id": "OCON3KBBLhoi",
        "outputId": "6a17cf09-18b0-4017-eb1e-f2b193b37b02"
      },
      "execution_count": 3,
      "outputs": [
        {
          "output_type": "stream",
          "name": "stdout",
          "text": [
            "[[15.26   14.84    0.871  ...  2.221   5.22    1.    ]\n",
            " [14.88   14.57    0.8811 ...  1.018   4.956   1.    ]\n",
            " [14.29   14.09    0.905  ...  2.699   4.825   1.    ]\n",
            " ...\n",
            " [13.2    13.66    0.8883 ...  8.315   5.056   3.    ]\n",
            " [11.84   13.21    0.8521 ...  3.598   5.044   3.    ]\n",
            " [12.3    13.34    0.8684 ...  5.637   5.063   3.    ]]\n",
            "Rows: 210\n",
            "Columns: 8\n"
          ]
        }
      ]
    },
    {
      "cell_type": "markdown",
      "source": [
        "# 3. Preprocesado de datos"
      ],
      "metadata": {
        "id": "xuFnqi2iL0Vg"
      }
    },
    {
      "cell_type": "markdown",
      "source": [
        "En este caso, solo disponemos de una tabla de datos, por lo que se deben extraer de ella los conjuntos de entrenamiento, validación y testeo. Para ello, se ha separado primero el de validación (50%) de los otros dos (50% entre ambos), para luego separar también ese 50% por la mitad, una para cada uno. De esta forma, los porcentajes finales son un 50% para el conjunto de entrenamiento y un 25% para los otros dos."
      ],
      "metadata": {
        "id": "oy82SXCyL2aU"
      }
    },
    {
      "cell_type": "code",
      "source": [
        "train_size = 0.5\n",
        "other_size = 0.5\n",
        "valid_size = 0.5\n",
        "test_size = 0.5\n",
        "\n",
        "type_column = seed_stats[:, n_features - 1]\n",
        "seed_stats_normalized = preprocessing.normalize(seed_stats)\n",
        "seed_stats_normalized[:, n_features - 1] = type_column\n",
        "\n",
        "patterns_input = seed_stats_normalized[:, :n_features-1]\n",
        "patterns_target = seed_stats_normalized[:, -1]\n",
        "\n",
        "input_train, input_others, target_train, target_others = train_test_split(\n",
        "    patterns_input, patterns_target, train_size = train_size, test_size = other_size,\n",
        "    random_state = 0, shuffle = True)\n",
        "\n",
        "input_valid, input_test, target_valid, target_test = train_test_split(\n",
        "    input_others, target_others, train_size = valid_size, test_size = test_size,\n",
        "    random_state = 0, shuffle = True)"
      ],
      "metadata": {
        "id": "8zARM0MKL6af"
      },
      "execution_count": 5,
      "outputs": []
    },
    {
      "cell_type": "markdown",
      "source": [
        "# 4. Resultados iniciales Perceptrón Simple"
      ],
      "metadata": {
        "id": "6FB3j7oJMWZB"
      }
    },
    {
      "cell_type": "markdown",
      "source": [
        "Hemos decidido entrenar el modelo con 60 iteraciones, que es más o menos cuando converge el algoritmo. A diferencia del ejemplo visto en clase, parece que la precisión obtenida en el conjunto de validación es mayor que la del de entrenamiento, y que la calidad de ambas es notablemente menor (cerca del 20%)."
      ],
      "metadata": {
        "id": "OkM3HFUUMcab"
      }
    },
    {
      "cell_type": "code",
      "source": [
        "max_iter = 60\n",
        "print(\"Learning a Perceptron with %d maximum number of iterations and ...\" % max_iter)\n",
        "perceptron = Perceptron(max_iter = max_iter, shuffle = False, random_state = 0, verbose = True)\n",
        "perceptron.fit(input_train, target_train)\n",
        "\n",
        "# Results\n",
        "print(\"\\n~~~ Imprimiendo los resultados del Perceptrón Simple ~~~\\n\")\n",
        "predict_train = perceptron.predict(input_train)\n",
        "predict_valid = perceptron.predict(input_valid)\n",
        "print(\"Train accuracy: %.3f%%\" % (accuracy_score(target_train, predict_train) * 100))\n",
        "print(\"Valid accuracy: %.3f%%\" % (accuracy_score(target_valid, predict_valid) * 100))"
      ],
      "metadata": {
        "colab": {
          "base_uri": "https://localhost:8080/"
        },
        "id": "AqbkyJd_MaLh",
        "outputId": "54468873-13af-487c-b07e-dece75ba8c81"
      },
      "execution_count": 6,
      "outputs": [
        {
          "output_type": "stream",
          "name": "stdout",
          "text": [
            "Learning a Perceptron with 60 maximum number of iterations and ...\n",
            "-- Epoch 1\n",
            "Norm: 1.50, NNZs: 7, Bias: -1.000000, T: 105, Avg. loss: 0.411344\n",
            "Total training time: 0.00 seconds.\n",
            "-- Epoch 2\n",
            "Norm: 2.48, NNZs: 7, Bias: -1.000000, T: 210, Avg. loss: 0.398965\n",
            "Total training time: 0.00 seconds.\n",
            "-- Epoch 3\n",
            "Norm: 3.77, NNZs: 7, Bias: -1.000000, T: 315, Avg. loss: 0.398027\n",
            "Total training time: 0.00 seconds.\n",
            "-- Epoch 4\n",
            "Norm: 5.10, NNZs: 7, Bias: -1.000000, T: 420, Avg. loss: 0.380392\n",
            "Total training time: 0.00 seconds.\n",
            "-- Epoch 5\n",
            "Norm: 6.44, NNZs: 7, Bias: -1.000000, T: 525, Avg. loss: 0.362757\n",
            "Total training time: 0.01 seconds.\n",
            "-- Epoch 6\n",
            "Norm: 7.79, NNZs: 7, Bias: -1.000000, T: 630, Avg. loss: 0.345122\n",
            "Total training time: 0.01 seconds.\n",
            "-- Epoch 7\n",
            "Norm: 9.07, NNZs: 7, Bias: -1.000000, T: 735, Avg. loss: 0.314254\n",
            "Total training time: 0.01 seconds.\n",
            "-- Epoch 8\n",
            "Norm: 10.12, NNZs: 7, Bias: -1.000000, T: 840, Avg. loss: 0.284460\n",
            "Total training time: 0.01 seconds.\n",
            "-- Epoch 9\n",
            "Norm: 10.77, NNZs: 7, Bias: -1.000000, T: 945, Avg. loss: 0.314566\n",
            "Total training time: 0.01 seconds.\n",
            "-- Epoch 10\n",
            "Norm: 11.07, NNZs: 7, Bias: -1.000000, T: 1050, Avg. loss: 0.291732\n",
            "Total training time: 0.01 seconds.\n",
            "-- Epoch 11\n",
            "Norm: 11.39, NNZs: 7, Bias: -1.000000, T: 1155, Avg. loss: 0.326333\n",
            "Total training time: 0.01 seconds.\n",
            "-- Epoch 12\n",
            "Norm: 11.61, NNZs: 7, Bias: -1.000000, T: 1260, Avg. loss: 0.317471\n",
            "Total training time: 0.01 seconds.\n",
            "-- Epoch 13\n",
            "Norm: 11.66, NNZs: 7, Bias: -1.000000, T: 1365, Avg. loss: 0.298946\n",
            "Total training time: 0.01 seconds.\n",
            "Convergence after 13 epochs took 0.01 seconds\n",
            "-- Epoch 1\n",
            "Norm: 1.76, NNZs: 7, Bias: -1.000000, T: 105, Avg. loss: 0.350605\n",
            "Total training time: 0.00 seconds.\n",
            "-- Epoch 2\n",
            "Norm: 2.60, NNZs: 7, Bias: -1.000000, T: 210, Avg. loss: 0.286644\n",
            "Total training time: 0.00 seconds.\n",
            "-- Epoch 3\n",
            "Norm: 3.13, NNZs: 7, Bias: -1.000000, T: 315, Avg. loss: 0.194770\n",
            "Total training time: 0.00 seconds.\n",
            "-- Epoch 4\n",
            "Norm: 3.69, NNZs: 7, Bias: -1.000000, T: 420, Avg. loss: 0.190984\n",
            "Total training time: 0.00 seconds.\n",
            "-- Epoch 5\n",
            "Norm: 4.32, NNZs: 7, Bias: -1.000000, T: 525, Avg. loss: 0.203883\n",
            "Total training time: 0.00 seconds.\n",
            "-- Epoch 6\n",
            "Norm: 4.94, NNZs: 7, Bias: -1.000000, T: 630, Avg. loss: 0.200890\n",
            "Total training time: 0.00 seconds.\n",
            "-- Epoch 7\n",
            "Norm: 5.63, NNZs: 7, Bias: -1.000000, T: 735, Avg. loss: 0.212211\n",
            "Total training time: 0.00 seconds.\n",
            "-- Epoch 8\n",
            "Norm: 6.25, NNZs: 7, Bias: -1.000000, T: 840, Avg. loss: 0.192803\n",
            "Total training time: 0.00 seconds.\n",
            "-- Epoch 9\n",
            "Norm: 6.88, NNZs: 7, Bias: -1.000000, T: 945, Avg. loss: 0.188969\n",
            "Total training time: 0.00 seconds.\n",
            "-- Epoch 10\n",
            "Norm: 7.51, NNZs: 7, Bias: -1.000000, T: 1050, Avg. loss: 0.185135\n",
            "Total training time: 0.00 seconds.\n",
            "-- Epoch 11\n",
            "Norm: 8.21, NNZs: 7, Bias: -1.000000, T: 1155, Avg. loss: 0.194411\n",
            "Total training time: 0.00 seconds.\n",
            "-- Epoch 12\n",
            "Norm: 8.84, NNZs: 7, Bias: -1.000000, T: 1260, Avg. loss: 0.177009\n",
            "Total training time: 0.00 seconds.\n",
            "-- Epoch 13\n",
            "Norm: 9.55, NNZs: 7, Bias: -1.000000, T: 1365, Avg. loss: 0.185284\n",
            "Total training time: 0.00 seconds.\n",
            "-- Epoch 14\n",
            "Norm: 10.25, NNZs: 7, Bias: -1.000000, T: 1470, Avg. loss: 0.180449\n",
            "Total training time: 0.00 seconds.\n",
            "-- Epoch 15\n",
            "Norm: 10.88, NNZs: 7, Bias: -1.000000, T: 1575, Avg. loss: 0.164591\n",
            "Total training time: 0.00 seconds.\n",
            "-- Epoch 16\n",
            "Norm: 11.59, NNZs: 7, Bias: -1.000000, T: 1680, Avg. loss: 0.171322\n",
            "Total training time: 0.00 seconds.\n",
            "-- Epoch 17\n",
            "Norm: 12.22, NNZs: 7, Bias: -1.000000, T: 1785, Avg. loss: 0.156465\n",
            "Total training time: 0.00 seconds.\n",
            "-- Epoch 18\n",
            "Norm: 12.84, NNZs: 7, Bias: -1.000000, T: 1890, Avg. loss: 0.154450\n",
            "Total training time: 0.00 seconds.\n",
            "-- Epoch 19\n",
            "Norm: 13.46, NNZs: 7, Bias: -1.000000, T: 1995, Avg. loss: 0.150794\n",
            "Total training time: 0.00 seconds.\n",
            "-- Epoch 20\n",
            "Norm: 14.07, NNZs: 7, Bias: -1.000000, T: 2100, Avg. loss: 0.147138\n",
            "Total training time: 0.00 seconds.\n",
            "-- Epoch 21\n",
            "Norm: 14.69, NNZs: 7, Bias: -1.000000, T: 2205, Avg. loss: 0.143483\n",
            "Total training time: 0.00 seconds.\n",
            "-- Epoch 22\n",
            "Norm: 15.31, NNZs: 7, Bias: -1.000000, T: 2310, Avg. loss: 0.139827\n",
            "Total training time: 0.00 seconds.\n",
            "-- Epoch 23\n",
            "Norm: 15.93, NNZs: 7, Bias: -1.000000, T: 2415, Avg. loss: 0.136171\n",
            "Total training time: 0.00 seconds.\n",
            "-- Epoch 24\n",
            "Norm: 16.55, NNZs: 7, Bias: -1.000000, T: 2520, Avg. loss: 0.132515\n",
            "Total training time: 0.00 seconds.\n",
            "-- Epoch 25\n",
            "Norm: 17.16, NNZs: 7, Bias: -1.000000, T: 2625, Avg. loss: 0.128859\n",
            "Total training time: 0.00 seconds.\n",
            "-- Epoch 26\n",
            "Norm: 17.78, NNZs: 7, Bias: -1.000000, T: 2730, Avg. loss: 0.125203\n",
            "Total training time: 0.00 seconds.\n",
            "-- Epoch 27\n",
            "Norm: 18.40, NNZs: 7, Bias: -1.000000, T: 2835, Avg. loss: 0.121547\n",
            "Total training time: 0.00 seconds.\n",
            "-- Epoch 28\n",
            "Norm: 19.02, NNZs: 7, Bias: -1.000000, T: 2940, Avg. loss: 0.117891\n",
            "Total training time: 0.00 seconds.\n",
            "-- Epoch 29\n",
            "Norm: 19.64, NNZs: 7, Bias: -1.000000, T: 3045, Avg. loss: 0.114235\n",
            "Total training time: 0.00 seconds.\n",
            "-- Epoch 30\n",
            "Norm: 20.20, NNZs: 7, Bias: -1.000000, T: 3150, Avg. loss: 0.121474\n",
            "Total training time: 0.00 seconds.\n",
            "-- Epoch 31\n",
            "Norm: 20.85, NNZs: 7, Bias: -1.000000, T: 3255, Avg. loss: 0.119377\n",
            "Total training time: 0.00 seconds.\n",
            "-- Epoch 32\n",
            "Norm: 21.51, NNZs: 7, Bias: -1.000000, T: 3360, Avg. loss: 0.115293\n",
            "Total training time: 0.00 seconds.\n",
            "-- Epoch 33\n",
            "Norm: 22.08, NNZs: 7, Bias: -1.000000, T: 3465, Avg. loss: 0.108628\n",
            "Total training time: 0.00 seconds.\n",
            "-- Epoch 34\n",
            "Norm: 22.63, NNZs: 7, Bias: -1.000000, T: 3570, Avg. loss: 0.111859\n",
            "Total training time: 0.00 seconds.\n",
            "-- Epoch 35\n",
            "Norm: 23.17, NNZs: 7, Bias: -1.000000, T: 3675, Avg. loss: 0.108925\n",
            "Total training time: 0.00 seconds.\n",
            "-- Epoch 36\n",
            "Norm: 23.72, NNZs: 7, Bias: -1.000000, T: 3780, Avg. loss: 0.105992\n",
            "Total training time: 0.00 seconds.\n",
            "-- Epoch 37\n",
            "Norm: 24.27, NNZs: 7, Bias: -1.000000, T: 3885, Avg. loss: 0.103059\n",
            "Total training time: 0.00 seconds.\n",
            "-- Epoch 38\n",
            "Norm: 24.81, NNZs: 7, Bias: -1.000000, T: 3990, Avg. loss: 0.100126\n",
            "Total training time: 0.00 seconds.\n",
            "-- Epoch 39\n",
            "Norm: 25.36, NNZs: 7, Bias: -1.000000, T: 4095, Avg. loss: 0.097193\n",
            "Total training time: 0.00 seconds.\n",
            "-- Epoch 40\n",
            "Norm: 25.98, NNZs: 7, Bias: -1.000000, T: 4200, Avg. loss: 0.095529\n",
            "Total training time: 0.00 seconds.\n",
            "-- Epoch 41\n",
            "Norm: 26.53, NNZs: 7, Bias: -1.000000, T: 4305, Avg. loss: 0.090891\n",
            "Total training time: 0.00 seconds.\n",
            "-- Epoch 42\n",
            "Norm: 27.08, NNZs: 7, Bias: -1.000000, T: 4410, Avg. loss: 0.087088\n",
            "Total training time: 0.00 seconds.\n",
            "-- Epoch 43\n",
            "Norm: 27.51, NNZs: 7, Bias: -1.000000, T: 4515, Avg. loss: 0.078611\n",
            "Total training time: 0.00 seconds.\n",
            "-- Epoch 44\n",
            "Norm: 27.94, NNZs: 7, Bias: -1.000000, T: 4620, Avg. loss: 0.076601\n",
            "Total training time: 0.00 seconds.\n",
            "-- Epoch 45\n",
            "Norm: 28.36, NNZs: 7, Bias: -1.000000, T: 4725, Avg. loss: 0.077108\n",
            "Total training time: 0.00 seconds.\n",
            "-- Epoch 46\n",
            "Norm: 28.78, NNZs: 7, Bias: -1.000000, T: 4830, Avg. loss: 0.075312\n",
            "Total training time: 0.00 seconds.\n",
            "-- Epoch 47\n",
            "Norm: 29.14, NNZs: 7, Bias: -1.000000, T: 4935, Avg. loss: 0.072864\n",
            "Total training time: 0.00 seconds.\n",
            "-- Epoch 48\n",
            "Norm: 29.49, NNZs: 7, Bias: -1.000000, T: 5040, Avg. loss: 0.072850\n",
            "Total training time: 0.00 seconds.\n",
            "-- Epoch 49\n",
            "Norm: 29.90, NNZs: 7, Bias: -1.000000, T: 5145, Avg. loss: 0.073638\n",
            "Total training time: 0.00 seconds.\n",
            "-- Epoch 50\n",
            "Norm: 30.29, NNZs: 7, Bias: -1.000000, T: 5250, Avg. loss: 0.079452\n",
            "Total training time: 0.00 seconds.\n",
            "-- Epoch 51\n",
            "Norm: 30.64, NNZs: 7, Bias: -1.000000, T: 5355, Avg. loss: 0.069018\n",
            "Total training time: 0.01 seconds.\n",
            "-- Epoch 52\n",
            "Norm: 30.99, NNZs: 7, Bias: -1.000000, T: 5460, Avg. loss: 0.069049\n",
            "Total training time: 0.01 seconds.\n",
            "-- Epoch 53\n",
            "Norm: 31.26, NNZs: 7, Bias: -1.000000, T: 5565, Avg. loss: 0.090557\n",
            "Total training time: 0.01 seconds.\n",
            "-- Epoch 54\n",
            "Norm: 31.54, NNZs: 7, Bias: -1.000000, T: 5670, Avg. loss: 0.088148\n",
            "Total training time: 0.01 seconds.\n",
            "-- Epoch 55\n",
            "Norm: 31.82, NNZs: 7, Bias: -1.000000, T: 5775, Avg. loss: 0.086110\n",
            "Total training time: 0.01 seconds.\n",
            "-- Epoch 56\n",
            "Norm: 32.10, NNZs: 7, Bias: -1.000000, T: 5880, Avg. loss: 0.085306\n",
            "Total training time: 0.01 seconds.\n",
            "Convergence after 56 epochs took 0.01 seconds\n",
            "-- Epoch 1\n",
            "Norm: 1.52, NNZs: 7, Bias: 0.000000, T: 105, Avg. loss: 0.291885\n",
            "Total training time: 0.01 seconds.\n",
            "-- Epoch 2\n",
            "Norm: 3.04, NNZs: 7, Bias: 0.000000, T: 210, Avg. loss: 0.269930\n",
            "Total training time: 0.01 seconds.\n",
            "-- Epoch 3\n",
            "Norm: 4.44, NNZs: 7, Bias: 0.000000, T: 315, Avg. loss: 0.233808\n",
            "Total training time: 0.01 seconds.\n",
            "-- Epoch 4\n",
            "Norm: 5.85, NNZs: 7, Bias: 0.000000, T: 420, Avg. loss: 0.214869\n",
            "Total training time: 0.01 seconds.\n",
            "-- Epoch 5\n",
            "Norm: 7.34, NNZs: 7, Bias: 0.000000, T: 525, Avg. loss: 0.209050\n",
            "Total training time: 0.01 seconds.\n",
            "-- Epoch 6\n",
            "Norm: 8.84, NNZs: 7, Bias: 0.000000, T: 630, Avg. loss: 0.187821\n",
            "Total training time: 0.01 seconds.\n",
            "-- Epoch 7\n",
            "Norm: 10.30, NNZs: 7, Bias: 1.000000, T: 735, Avg. loss: 0.173873\n",
            "Total training time: 0.01 seconds.\n",
            "-- Epoch 8\n",
            "Norm: 11.78, NNZs: 7, Bias: 1.000000, T: 840, Avg. loss: 0.166987\n",
            "Total training time: 0.01 seconds.\n",
            "-- Epoch 9\n",
            "Norm: 13.08, NNZs: 7, Bias: 1.000000, T: 945, Avg. loss: 0.148933\n",
            "Total training time: 0.01 seconds.\n",
            "-- Epoch 10\n",
            "Norm: 14.23, NNZs: 7, Bias: 1.000000, T: 1050, Avg. loss: 0.133780\n",
            "Total training time: 0.01 seconds.\n",
            "-- Epoch 11\n",
            "Norm: 15.18, NNZs: 7, Bias: 1.000000, T: 1155, Avg. loss: 0.113594\n",
            "Total training time: 0.01 seconds.\n",
            "-- Epoch 12\n",
            "Norm: 15.82, NNZs: 7, Bias: 1.000000, T: 1260, Avg. loss: 0.095004\n",
            "Total training time: 0.01 seconds.\n",
            "-- Epoch 13\n",
            "Norm: 16.26, NNZs: 7, Bias: 1.000000, T: 1365, Avg. loss: 0.102464\n",
            "Total training time: 0.01 seconds.\n",
            "-- Epoch 14\n",
            "Norm: 16.46, NNZs: 7, Bias: 1.000000, T: 1470, Avg. loss: 0.082234\n",
            "Total training time: 0.01 seconds.\n",
            "-- Epoch 15\n",
            "Norm: 16.67, NNZs: 7, Bias: 1.000000, T: 1575, Avg. loss: 0.081478\n",
            "Total training time: 0.01 seconds.\n",
            "-- Epoch 16\n",
            "Norm: 16.96, NNZs: 7, Bias: 1.000000, T: 1680, Avg. loss: 0.067404\n",
            "Total training time: 0.01 seconds.\n",
            "-- Epoch 17\n",
            "Norm: 17.18, NNZs: 7, Bias: 1.000000, T: 1785, Avg. loss: 0.077354\n",
            "Total training time: 0.01 seconds.\n",
            "-- Epoch 18\n",
            "Norm: 17.35, NNZs: 7, Bias: 1.000000, T: 1890, Avg. loss: 0.066520\n",
            "Total training time: 0.01 seconds.\n",
            "-- Epoch 19\n",
            "Norm: 17.52, NNZs: 7, Bias: 1.000000, T: 1995, Avg. loss: 0.065970\n",
            "Total training time: 0.01 seconds.\n",
            "-- Epoch 20\n",
            "Norm: 17.80, NNZs: 7, Bias: 1.000000, T: 2100, Avg. loss: 0.066568\n",
            "Total training time: 0.01 seconds.\n",
            "-- Epoch 21\n",
            "Norm: 17.94, NNZs: 7, Bias: 1.000000, T: 2205, Avg. loss: 0.052132\n",
            "Total training time: 0.01 seconds.\n",
            "-- Epoch 22\n",
            "Norm: 18.08, NNZs: 7, Bias: 1.000000, T: 2310, Avg. loss: 0.051808\n",
            "Total training time: 0.01 seconds.\n",
            "-- Epoch 23\n",
            "Norm: 18.22, NNZs: 7, Bias: 1.000000, T: 2415, Avg. loss: 0.051483\n",
            "Total training time: 0.01 seconds.\n",
            "-- Epoch 24\n",
            "Norm: 18.36, NNZs: 7, Bias: 1.000000, T: 2520, Avg. loss: 0.051158\n",
            "Total training time: 0.01 seconds.\n",
            "-- Epoch 25\n",
            "Norm: 18.50, NNZs: 7, Bias: 1.000000, T: 2625, Avg. loss: 0.050834\n",
            "Total training time: 0.01 seconds.\n",
            "-- Epoch 26\n",
            "Norm: 18.65, NNZs: 7, Bias: 1.000000, T: 2730, Avg. loss: 0.050509\n",
            "Total training time: 0.01 seconds.\n",
            "Convergence after 26 epochs took 0.01 seconds\n",
            "\n",
            "~~~ Printing Perceptron results ~~~\n",
            "\n",
            "Train accuracy: 75.238%\n",
            "Valid accuracy: 84.615%\n"
          ]
        },
        {
          "output_type": "stream",
          "name": "stderr",
          "text": [
            "[Parallel(n_jobs=1)]: Using backend SequentialBackend with 1 concurrent workers.\n",
            "[Parallel(n_jobs=1)]: Done   3 out of   3 | elapsed:    0.0s finished\n"
          ]
        }
      ]
    },
    {
      "cell_type": "markdown",
      "source": [
        "# 5. Resultados iniciales Perceptrón Multicapa"
      ],
      "metadata": {
        "id": "qmta_3jnM9me"
      }
    },
    {
      "cell_type": "markdown",
      "source": [
        "Para el Perceptrón Multicapa hemos decidido usar estos parámetros:\n",
        "\n",
        "*   Neuronas ocultas: 80\n",
        "*   Iteraciones máximas: 300\n",
        "*   Tasa de aprendizaje inicial: 0.01\n",
        "*   Ciclos: 5\n",
        "*   Parada antes de tiempo: sí\n"
      ],
      "metadata": {
        "id": "lJ9XDq7oM_Sw"
      }
    },
    {
      "cell_type": "code",
      "source": [
        "# Modelar el perceptrón multicapa\n",
        "\n",
        "def MLP_train_valid(mlp, input_train, target_train, input_valid, target_valid, max_iter, valid_cycles, verbose):\n",
        "    \"\"\"\n",
        "    Train and valid MLP every valid_cycles iterations\n",
        "    \"\"\"\n",
        "    classes  = np.unique(target_train)\n",
        "    loss_valid = []\n",
        "    for i in range(max_iter//valid_cycles):\n",
        "        for j in range(valid_cycles):\n",
        "            out = mlp.partial_fit(input_train, target_train, classes)\n",
        "            # Calculate loss function of valid set\n",
        "        last_lost_valid = log_loss(target_valid, mlp.predict_proba(input_valid))\n",
        "        loss_valid.append(last_lost_valid)\n",
        "        if verbose:\n",
        "            print(\"Iteration %d, train loss = %.8f, valid loss = %.8f\" %\n",
        "                  (mlp.n_iter_, mlp.loss_, last_lost_valid))\n",
        "        if early_stopping and (i > 0) and (last_lost_valid > loss_valid[-2]): # Early stopping\n",
        "            if verbose:\n",
        "                print(\"Early stopping: Validation score did not improve\")\n",
        "            break\n",
        "    if verbose: print(out)\n",
        "    \n",
        "    if verbose:\n",
        "        # Visualizing the Cost Function Trajectory\n",
        "        print(\"Visualizing the Cost Function Trajectory\")\n",
        "        plt.plot(range(1, len(mlp.loss_curve_)+1), mlp.loss_curve_, label='Train loss')\n",
        "        plt.plot(range(valid_cycles,len(loss_valid)*valid_cycles+valid_cycles,valid_cycles), loss_valid, '-o', label='Valid loss')\n",
        "        plt.xlabel('number of iterations')\n",
        "        plt.ylabel('loss function')\n",
        "        plt.legend(loc='upper right')\n",
        "        plt.show()\n",
        "\n",
        "# Multilayer Percetron wiht n_hidden hidden neurons\n",
        "n_hidden = 80\n",
        "max_iter = 300\n",
        "learning_rate_init = 0.01\n",
        "valid_cycles = 5\n",
        "early_stopping = True\n",
        "\n",
        "print(\"\\n~~~ Learning a MLP with %d hidden neurons, %d maximum number of iterations and %.8f learning rate ... ~~~\\n\" % (n_hidden, max_iter, learning_rate_init))\n",
        "\n",
        "mlp = MLPClassifier(hidden_layer_sizes = (n_hidden,), learning_rate_init = learning_rate_init, shuffle = False, random_state = 0, verbose = False)\n",
        "\n",
        "MLP_train_valid(mlp, input_train, target_train, input_valid, target_valid, max_iter, valid_cycles, True)\n",
        "\n",
        "# Resultados\n",
        "\n",
        "print(\"\\n~~~ Printing initial results~~~\\n\")\n",
        "\n",
        "predict_train = mlp.predict(input_train)\n",
        "predict_valid = mlp.predict(input_valid)\n",
        "\n",
        "print(\"Train accuracy: %.3f%%\" % (accuracy_score(target_train, predict_train) * 100))\n",
        "print(\"Valid accuracy: %.3f%%\" % (accuracy_score(target_valid, predict_valid) * 100))\n",
        "\n",
        "print(\"\\nTrain confusion matrix:\")\n",
        "print(confusion_matrix(target_train, predict_train))\n",
        "print(\"Valid confusion matrix:\")\n",
        "print(confusion_matrix(target_valid, predict_valid))\n",
        "\n",
        "print(\"Train classification report:\")\n",
        "print(classification_report(target_train, predict_train))\n",
        "print(\"Valid classification report:\")\n",
        "print(classification_report(target_valid, predict_valid))"
      ],
      "metadata": {
        "colab": {
          "base_uri": "https://localhost:8080/",
          "height": 1000
        },
        "id": "bjbEkk__M_a9",
        "outputId": "d4808b21-7679-44a6-f5a4-44502c2a080a"
      },
      "execution_count": 7,
      "outputs": [
        {
          "output_type": "stream",
          "name": "stdout",
          "text": [
            "\n",
            "~~~ Learning a MLP with 80 hidden neurons, 300 maximum number of iterations and 0.01000000 learning rate ... ~~~\n",
            "\n",
            "Iteration 5, train loss = 1.06615032, valid loss = 1.06623075\n",
            "Iteration 10, train loss = 1.02910352, valid loss = 1.00992404\n",
            "Iteration 15, train loss = 0.98091732, valid loss = 0.96732867\n",
            "Iteration 20, train loss = 0.92040250, valid loss = 0.89622982\n",
            "Iteration 25, train loss = 0.85038081, valid loss = 0.82347039\n",
            "Iteration 30, train loss = 0.77625479, valid loss = 0.75073344\n",
            "Iteration 35, train loss = 0.70405123, valid loss = 0.67951130\n",
            "Iteration 40, train loss = 0.63840355, valid loss = 0.61731710\n",
            "Iteration 45, train loss = 0.58038103, valid loss = 0.56613339\n",
            "Iteration 50, train loss = 0.52897121, valid loss = 0.51974853\n",
            "Iteration 55, train loss = 0.48265510, valid loss = 0.47864744\n",
            "Iteration 60, train loss = 0.44073689, valid loss = 0.44216900\n",
            "Iteration 65, train loss = 0.40320100, valid loss = 0.40866556\n",
            "Iteration 70, train loss = 0.37017388, valid loss = 0.38015319\n",
            "Iteration 75, train loss = 0.34165098, valid loss = 0.35454101\n",
            "Iteration 80, train loss = 0.31725887, valid loss = 0.33383307\n",
            "Iteration 85, train loss = 0.29647107, valid loss = 0.31689156\n",
            "Iteration 90, train loss = 0.27905431, valid loss = 0.30131489\n",
            "Iteration 95, train loss = 0.26398124, valid loss = 0.28897536\n",
            "Iteration 100, train loss = 0.25091446, valid loss = 0.27795042\n",
            "Iteration 105, train loss = 0.23936193, valid loss = 0.26874188\n",
            "Iteration 110, train loss = 0.22912370, valid loss = 0.26102211\n",
            "Iteration 115, train loss = 0.21992114, valid loss = 0.25361697\n",
            "Iteration 120, train loss = 0.21154761, valid loss = 0.24714633\n",
            "Iteration 125, train loss = 0.20389427, valid loss = 0.24142961\n",
            "Iteration 130, train loss = 0.19687495, valid loss = 0.23553044\n",
            "Iteration 135, train loss = 0.19043118, valid loss = 0.23035278\n",
            "Iteration 140, train loss = 0.18448761, valid loss = 0.22657100\n",
            "Iteration 145, train loss = 0.17901929, valid loss = 0.22062650\n",
            "Iteration 150, train loss = 0.17316487, valid loss = 0.22057310\n",
            "Iteration 155, train loss = 0.16874342, valid loss = 0.21600100\n",
            "Iteration 160, train loss = 0.16415694, valid loss = 0.21292377\n",
            "Iteration 165, train loss = 0.15990502, valid loss = 0.20940549\n",
            "Iteration 170, train loss = 0.15642123, valid loss = 0.20633419\n",
            "Iteration 175, train loss = 0.15260451, valid loss = 0.20392229\n",
            "Iteration 180, train loss = 0.14917191, valid loss = 0.20131489\n",
            "Iteration 185, train loss = 0.14574265, valid loss = 0.19916597\n",
            "Iteration 190, train loss = 0.14262984, valid loss = 0.19768915\n",
            "Iteration 195, train loss = 0.13964318, valid loss = 0.19645662\n",
            "Iteration 200, train loss = 0.13676686, valid loss = 0.19457449\n",
            "Iteration 205, train loss = 0.13403523, valid loss = 0.19222639\n",
            "Iteration 210, train loss = 0.13137224, valid loss = 0.19149877\n",
            "Iteration 215, train loss = 0.12881956, valid loss = 0.19016835\n",
            "Iteration 220, train loss = 0.12651451, valid loss = 0.18686186\n",
            "Iteration 225, train loss = 0.12410970, valid loss = 0.18648630\n",
            "Iteration 230, train loss = 0.12189656, valid loss = 0.18529471\n",
            "Iteration 235, train loss = 0.11973362, valid loss = 0.18443231\n",
            "Iteration 240, train loss = 0.11758538, valid loss = 0.18358253\n",
            "Iteration 245, train loss = 0.11547884, valid loss = 0.18193350\n",
            "Iteration 250, train loss = 0.11354108, valid loss = 0.18128852\n",
            "Iteration 255, train loss = 0.11154645, valid loss = 0.17979994\n",
            "Iteration 260, train loss = 0.10975497, valid loss = 0.17767342\n",
            "Iteration 265, train loss = 0.10788203, valid loss = 0.17703253\n",
            "Iteration 270, train loss = 0.10624015, valid loss = 0.17706562\n",
            "Early stopping: Validation score did not improve\n",
            "MLPClassifier(hidden_layer_sizes=(80,), learning_rate_init=0.01, random_state=0,\n",
            "              shuffle=False)\n",
            "Visualizing the Cost Function Trajectory\n"
          ]
        },
        {
          "output_type": "display_data",
          "data": {
            "text/plain": [
              "<Figure size 432x288 with 1 Axes>"
            ],
            "image/png": "[encoded data removed]"
          },
          "metadata": {
            "needs_background": "light"
          }
        },
        {
          "output_type": "stream",
          "name": "stdout",
          "text": [
            "\n",
            "~~~ Printing initial results~~~\n",
            "\n",
            "Train accuracy: 97.143%\n",
            "Valid accuracy: 90.385%\n",
            "\n",
            "Train confusion matrix:\n",
            "[[33  0  1]\n",
            " [ 1 34  0]\n",
            " [ 1  0 35]]\n",
            "Valid confusion matrix:\n",
            "[[19  1  1]\n",
            " [ 2 12  0]\n",
            " [ 1  0 16]]\n",
            "Train classification report:\n",
            "              precision    recall  f1-score   support\n",
            "\n",
            "         1.0       0.94      0.97      0.96        34\n",
            "         2.0       1.00      0.97      0.99        35\n",
            "         3.0       0.97      0.97      0.97        36\n",
            "\n",
            "    accuracy                           0.97       105\n",
            "   macro avg       0.97      0.97      0.97       105\n",
            "weighted avg       0.97      0.97      0.97       105\n",
            "\n",
            "Valid classification report:\n",
            "              precision    recall  f1-score   support\n",
            "\n",
            "         1.0       0.86      0.90      0.88        21\n",
            "         2.0       0.92      0.86      0.89        14\n",
            "         3.0       0.94      0.94      0.94        17\n",
            "\n",
            "    accuracy                           0.90        52\n",
            "   macro avg       0.91      0.90      0.90        52\n",
            "weighted avg       0.90      0.90      0.90        52\n",
            "\n"
          ]
        }
      ]
    },
    {
      "cell_type": "markdown",
      "source": [
        "Como se ve en la gráfica, estos valores de los parámetros permiten una curva de errores más o menos estable. Además, en ambas matrices de confusión se puede ver que la red neuronal funciona de manera bastante aceptable, pues la precisión ha subido bastante y ahora la precisión del conjunto de entrenamiento es superior."
      ],
      "metadata": {
        "id": "w8j7bRZONnl8"
      }
    },
    {
      "cell_type": "markdown",
      "source": [
        "# 6. Optimización del ratio de aprendizaje"
      ],
      "metadata": {
        "id": "ym_8Tn-1OCZv"
      }
    },
    {
      "cell_type": "markdown",
      "source": [
        "En este caso, a diferencia del ejemplo de clase, las curvas obtenidas son bastante menos planas; pero se puede ver que son claramente más estables cuando el ratio de aprendizaje es 0.01 o 0.005. De estos valores, precisamente es 0.01 el que habíamos elegido en el paso anterior."
      ],
      "metadata": {
        "id": "_akZ_rpAOFcK"
      }
    },
    {
      "cell_type": "code",
      "source": [
        "print(\"\\n~~~ Optimización del ratio de aprendizaje ~~~\\n\")\n",
        "\n",
        "tests_learning_rate_init = [0.001, 0.005, 0.01, 0.05, 0.1, 0.15]\n",
        "activation = 'relu'\n",
        "random_state = 0\n",
        "\n",
        "now = datetime.now()\n",
        "loss_curves =  []\n",
        "for lr in tests_learning_rate_init:\n",
        "    mlp = MLPClassifier(hidden_layer_sizes = (n_hidden,), learning_rate_init = lr, shuffle = False, random_state = random_state, verbose = False, activation=activation)\n",
        "    MLP_train_valid(mlp, input_train, target_train, input_valid, target_valid, max_iter, valid_cycles, False)\n",
        "    \n",
        "    loss_curves.append(mlp.loss_curve_)\n",
        "\n",
        "print(\"Number of seconds for training: %d\" % (datetime.now() - now).total_seconds())\n",
        "\n",
        "# Show results\n",
        "print(\"Visualizing the Cost Function Trajectory with different learning rates\")\n",
        "for (lr, loss_curve) in zip(tests_learning_rate_init, loss_curves):\n",
        "    plt.plot(range(1, len(loss_curve) + 1), loss_curve, label = 'larning rate = ' + str(lr))\n",
        "\n",
        "plt.xlabel('number of iterations')\n",
        "plt.ylabel('loss function')\n",
        "plt.legend(loc = 'upper right')\n",
        "plt.show()"
      ],
      "metadata": {
        "colab": {
          "base_uri": "https://localhost:8080/",
          "height": 366
        },
        "id": "x5XPwczcOFia",
        "outputId": "c987e5aa-e1d9-405a-ac1f-cb271ed2e265"
      },
      "execution_count": 8,
      "outputs": [
        {
          "output_type": "stream",
          "name": "stdout",
          "text": [
            "\n",
            "~~~ Optimización del ratio de aprendizaje ~~~\n",
            "\n",
            "Number of seconds for training: 2\n",
            "Visualizing the Cost Function Trajectory with different learning rates\n"
          ]
        },
        {
          "output_type": "display_data",
          "data": {
            "text/plain": [
              "<Figure size 432x288 with 1 Axes>"
            ],
            "image/png": "[encoded data removed]"
          },
          "metadata": {
            "needs_background": "light"
          }
        }
      ]
    },
    {
      "cell_type": "markdown",
      "source": [
        "# 7. Optimización de la arquitectura"
      ],
      "metadata": {
        "id": "b5RV2RD1Oe7K"
      }
    },
    {
      "cell_type": "markdown",
      "source": [
        "Se ve que la mejor cantidad de neuronas ocultas es, aproximadamente, 110, pues a partir de ella se estabilizan los errores cometidos."
      ],
      "metadata": {
        "id": "y1TBLGZxOjHs"
      }
    },
    {
      "cell_type": "code",
      "source": [
        "# Test MLP with differents number of hidden units and several repetitions\n",
        "tests_n_hidden = [10, 30, 50, 70, 90, 110, 130, 150, 170, 190, 210, 230, 250]\n",
        "n_reps = 10\n",
        "# n_reps = 20\n",
        "activation = 'relu'\n",
        "# activation = 'logistic'\n",
        "# learning_rate_init = 0.001\n",
        "# learning_rate_init = 0.01\n",
        "learning_rate_init = 0.005\n",
        "\n",
        "now = datetime.now()\n",
        "best_mlp = []\n",
        "best_acc = 0.0\n",
        "accs_train = []\n",
        "accs_valid = []\n",
        "for n_hidden in tests_n_hidden:\n",
        "    max_acc_train = max_acc_valid = 0.0\n",
        "    for random_state in range(n_reps):\n",
        "        mlp = MLPClassifier(hidden_layer_sizes=(n_hidden,), learning_rate_init=learning_rate_init, shuffle=False, random_state=random_state, verbose=False, activation=activation)\n",
        "        MLP_train_valid(mlp, input_train, target_train, input_valid, target_valid, max_iter, valid_cycles, False)\n",
        "        \n",
        "        acc_train = accuracy_score(target_train, mlp.predict(input_train))\n",
        "        acc_valid = accuracy_score(target_valid,mlp.predict(input_valid))\n",
        "        print(\"Seed = %d, train acc = %.8f, valid acc = %.8f, iterations = %d\" % (random_state, acc_train, acc_valid, len(mlp.loss_curve_)))\n",
        "        if (max_acc_valid < acc_valid):\n",
        "            max_acc_valid = acc_valid\n",
        "            max_acc_train = acc_train\n",
        "            if (acc_valid > best_acc):\n",
        "                best_acc = acc_valid\n",
        "                best_mlp = mlp\n",
        "    accs_train.append(max_acc_train)\n",
        "    accs_valid.append(max_acc_valid)\n",
        "    print(\"Number hidden units = %i, train acc = %.8f, max valid acc = %.8f\" % (n_hidden, max_acc_train, max_acc_valid))\n",
        "\n",
        "print(\"Number of seconds for training: %d\" % (datetime.now() - now).total_seconds())\n",
        "print(\"Best MLP valid accuracy: %.8f%%\" % (best_acc * 100))\n",
        "print(\"Best MLP: \", best_mlp)\n",
        "\n",
        "# Show results\n",
        "\n",
        "width = 4\n",
        "plt.bar(np.array(tests_n_hidden) - width, 100 *(1- np.array(accs_train)), color='g', width=width, label='Train error')\n",
        "plt.bar(np.array(tests_n_hidden), 100 *(1- np.array(accs_valid)), width=width, label='Min valid error')\n",
        "plt.xlabel('number of hidden units')\n",
        "plt.ylabel('error (%)')\n",
        "plt.xticks(np.array(tests_n_hidden), tests_n_hidden)\n",
        "plt.legend(loc = 'upper right')\n",
        "plt.show()"
      ],
      "metadata": {
        "colab": {
          "base_uri": "https://localhost:8080/",
          "height": 1000
        },
        "id": "SguMiBtdOjO_",
        "outputId": "bf924019-10be-48fd-f419-21d034780e71"
      },
      "execution_count": 9,
      "outputs": [
        {
          "output_type": "stream",
          "name": "stdout",
          "text": [
            "Seed = 0, train acc = 0.93333333, valid acc = 0.90384615, iterations = 300\n",
            "Seed = 1, train acc = 0.80000000, valid acc = 0.76923077, iterations = 300\n",
            "Seed = 2, train acc = 0.82857143, valid acc = 0.75000000, iterations = 300\n",
            "Seed = 3, train acc = 0.47619048, valid acc = 0.65384615, iterations = 20\n",
            "Seed = 4, train acc = 0.42857143, valid acc = 0.42307692, iterations = 25\n",
            "Seed = 5, train acc = 0.86666667, valid acc = 0.76923077, iterations = 300\n",
            "Seed = 6, train acc = 0.82857143, valid acc = 0.76923077, iterations = 300\n",
            "Seed = 7, train acc = 0.82857143, valid acc = 0.78846154, iterations = 300\n",
            "Seed = 8, train acc = 0.93333333, valid acc = 0.88461538, iterations = 300\n",
            "Seed = 9, train acc = 0.36190476, valid acc = 0.30769231, iterations = 40\n",
            "Number hidden units = 10, train acc = 0.93333333, max valid acc = 0.90384615\n",
            "Seed = 0, train acc = 0.93333333, valid acc = 0.90384615, iterations = 300\n",
            "Seed = 1, train acc = 0.55238095, valid acc = 0.48076923, iterations = 20\n",
            "Seed = 2, train acc = 0.94285714, valid acc = 0.90384615, iterations = 300\n",
            "Seed = 3, train acc = 0.45714286, valid acc = 0.40384615, iterations = 30\n",
            "Seed = 4, train acc = 0.60952381, valid acc = 0.57692308, iterations = 10\n",
            "Seed = 5, train acc = 0.33333333, valid acc = 0.26923077, iterations = 15\n",
            "Seed = 6, train acc = 0.35238095, valid acc = 0.32692308, iterations = 10\n",
            "Seed = 7, train acc = 0.56190476, valid acc = 0.50000000, iterations = 10\n",
            "Seed = 8, train acc = 0.03809524, valid acc = 0.01923077, iterations = 10\n",
            "Seed = 9, train acc = 0.94285714, valid acc = 0.90384615, iterations = 300\n",
            "Number hidden units = 30, train acc = 0.93333333, max valid acc = 0.90384615\n",
            "Seed = 0, train acc = 0.54285714, valid acc = 0.51923077, iterations = 10\n",
            "Seed = 1, train acc = 0.94285714, valid acc = 0.90384615, iterations = 300\n",
            "Seed = 2, train acc = 0.94285714, valid acc = 0.90384615, iterations = 300\n",
            "Seed = 3, train acc = 0.33333333, valid acc = 0.26923077, iterations = 10\n",
            "Seed = 4, train acc = 0.94285714, valid acc = 0.90384615, iterations = 300\n",
            "Seed = 5, train acc = 0.94285714, valid acc = 0.90384615, iterations = 300\n",
            "Seed = 6, train acc = 0.94285714, valid acc = 0.90384615, iterations = 300\n",
            "Seed = 7, train acc = 0.95238095, valid acc = 0.90384615, iterations = 300\n",
            "Seed = 8, train acc = 0.94285714, valid acc = 0.90384615, iterations = 300\n",
            "Seed = 9, train acc = 0.94285714, valid acc = 0.90384615, iterations = 300\n",
            "Number hidden units = 50, train acc = 0.94285714, max valid acc = 0.90384615\n",
            "Seed = 0, train acc = 0.95238095, valid acc = 0.90384615, iterations = 300\n",
            "Seed = 1, train acc = 0.95238095, valid acc = 0.90384615, iterations = 300\n",
            "Seed = 2, train acc = 0.95238095, valid acc = 0.90384615, iterations = 300\n",
            "Seed = 3, train acc = 0.95238095, valid acc = 0.90384615, iterations = 300\n",
            "Seed = 4, train acc = 0.95238095, valid acc = 0.90384615, iterations = 300\n",
            "Seed = 5, train acc = 0.95238095, valid acc = 0.90384615, iterations = 300\n",
            "Seed = 6, train acc = 0.95238095, valid acc = 0.90384615, iterations = 300\n",
            "Seed = 7, train acc = 0.94285714, valid acc = 0.90384615, iterations = 300\n",
            "Seed = 8, train acc = 0.34285714, valid acc = 0.32692308, iterations = 10\n",
            "Seed = 9, train acc = 0.95238095, valid acc = 0.90384615, iterations = 300\n",
            "Number hidden units = 70, train acc = 0.95238095, max valid acc = 0.90384615\n",
            "Seed = 0, train acc = 0.95238095, valid acc = 0.92307692, iterations = 300\n",
            "Seed = 1, train acc = 0.95238095, valid acc = 0.88461538, iterations = 300\n",
            "Seed = 2, train acc = 0.95238095, valid acc = 0.90384615, iterations = 300\n",
            "Seed = 3, train acc = 0.95238095, valid acc = 0.92307692, iterations = 300\n",
            "Seed = 4, train acc = 0.96190476, valid acc = 0.92307692, iterations = 300\n",
            "Seed = 5, train acc = 0.96190476, valid acc = 0.92307692, iterations = 300\n",
            "Seed = 6, train acc = 0.95238095, valid acc = 0.92307692, iterations = 300\n",
            "Seed = 7, train acc = 0.96190476, valid acc = 0.92307692, iterations = 300\n",
            "Seed = 8, train acc = 0.96190476, valid acc = 0.92307692, iterations = 300\n",
            "Seed = 9, train acc = 0.96190476, valid acc = 0.92307692, iterations = 300\n",
            "Number hidden units = 90, train acc = 0.95238095, max valid acc = 0.92307692\n",
            "Seed = 0, train acc = 0.96190476, valid acc = 0.92307692, iterations = 300\n",
            "Seed = 1, train acc = 0.96190476, valid acc = 0.92307692, iterations = 300\n",
            "Seed = 2, train acc = 0.96190476, valid acc = 0.92307692, iterations = 300\n",
            "Seed = 3, train acc = 0.96190476, valid acc = 0.92307692, iterations = 300\n",
            "Seed = 4, train acc = 0.96190476, valid acc = 0.92307692, iterations = 300\n",
            "Seed = 5, train acc = 0.96190476, valid acc = 0.92307692, iterations = 300\n",
            "Seed = 6, train acc = 0.96190476, valid acc = 0.90384615, iterations = 300\n",
            "Seed = 7, train acc = 0.96190476, valid acc = 0.92307692, iterations = 300\n",
            "Seed = 8, train acc = 0.96190476, valid acc = 0.92307692, iterations = 300\n",
            "Seed = 9, train acc = 0.96190476, valid acc = 0.92307692, iterations = 300\n",
            "Number hidden units = 110, train acc = 0.96190476, max valid acc = 0.92307692\n",
            "Seed = 0, train acc = 0.96190476, valid acc = 0.92307692, iterations = 300\n",
            "Seed = 1, train acc = 0.96190476, valid acc = 0.90384615, iterations = 300\n",
            "Seed = 2, train acc = 0.96190476, valid acc = 0.92307692, iterations = 290\n",
            "Seed = 3, train acc = 0.96190476, valid acc = 0.90384615, iterations = 300\n",
            "Seed = 4, train acc = 0.96190476, valid acc = 0.92307692, iterations = 300\n",
            "Seed = 5, train acc = 0.96190476, valid acc = 0.92307692, iterations = 300\n",
            "Seed = 6, train acc = 0.96190476, valid acc = 0.92307692, iterations = 300\n",
            "Seed = 7, train acc = 0.96190476, valid acc = 0.92307692, iterations = 300\n",
            "Seed = 8, train acc = 0.96190476, valid acc = 0.92307692, iterations = 265\n",
            "Seed = 9, train acc = 0.96190476, valid acc = 0.92307692, iterations = 300\n",
            "Number hidden units = 130, train acc = 0.96190476, max valid acc = 0.92307692\n",
            "Seed = 0, train acc = 0.96190476, valid acc = 0.92307692, iterations = 285\n",
            "Seed = 1, train acc = 0.96190476, valid acc = 0.92307692, iterations = 300\n",
            "Seed = 2, train acc = 0.96190476, valid acc = 0.92307692, iterations = 270\n",
            "Seed = 3, train acc = 0.96190476, valid acc = 0.92307692, iterations = 300\n",
            "Seed = 4, train acc = 0.97142857, valid acc = 0.92307692, iterations = 300\n",
            "Seed = 5, train acc = 0.96190476, valid acc = 0.92307692, iterations = 300\n",
            "Seed = 6, train acc = 0.96190476, valid acc = 0.92307692, iterations = 300\n",
            "Seed = 7, train acc = 0.64761905, valid acc = 0.55769231, iterations = 15\n",
            "Seed = 8, train acc = 0.96190476, valid acc = 0.92307692, iterations = 300\n",
            "Seed = 9, train acc = 0.96190476, valid acc = 0.92307692, iterations = 275\n",
            "Number hidden units = 150, train acc = 0.96190476, max valid acc = 0.92307692\n",
            "Seed = 0, train acc = 0.96190476, valid acc = 0.92307692, iterations = 300\n",
            "Seed = 1, train acc = 0.96190476, valid acc = 0.92307692, iterations = 240\n",
            "Seed = 2, train acc = 0.96190476, valid acc = 0.92307692, iterations = 260\n",
            "Seed = 3, train acc = 0.96190476, valid acc = 0.92307692, iterations = 260\n",
            "Seed = 4, train acc = 0.96190476, valid acc = 0.92307692, iterations = 300\n",
            "Seed = 5, train acc = 0.96190476, valid acc = 0.90384615, iterations = 280\n",
            "Seed = 6, train acc = 0.96190476, valid acc = 0.92307692, iterations = 270\n",
            "Seed = 7, train acc = 0.96190476, valid acc = 0.92307692, iterations = 300\n",
            "Seed = 8, train acc = 0.96190476, valid acc = 0.92307692, iterations = 300\n",
            "Seed = 9, train acc = 0.96190476, valid acc = 0.92307692, iterations = 290\n",
            "Number hidden units = 170, train acc = 0.96190476, max valid acc = 0.92307692\n",
            "Seed = 0, train acc = 0.97142857, valid acc = 0.92307692, iterations = 300\n",
            "Seed = 1, train acc = 0.96190476, valid acc = 0.92307692, iterations = 275\n",
            "Seed = 2, train acc = 0.96190476, valid acc = 0.92307692, iterations = 300\n",
            "Seed = 3, train acc = 0.96190476, valid acc = 0.92307692, iterations = 285\n",
            "Seed = 4, train acc = 0.97142857, valid acc = 0.90384615, iterations = 290\n",
            "Seed = 5, train acc = 0.96190476, valid acc = 0.92307692, iterations = 260\n",
            "Seed = 6, train acc = 0.96190476, valid acc = 0.92307692, iterations = 230\n",
            "Seed = 7, train acc = 0.96190476, valid acc = 0.92307692, iterations = 300\n",
            "Seed = 8, train acc = 0.97142857, valid acc = 0.90384615, iterations = 300\n",
            "Seed = 9, train acc = 0.96190476, valid acc = 0.92307692, iterations = 230\n",
            "Number hidden units = 190, train acc = 0.97142857, max valid acc = 0.92307692\n",
            "Seed = 0, train acc = 0.97142857, valid acc = 0.90384615, iterations = 290\n",
            "Seed = 1, train acc = 0.96190476, valid acc = 0.92307692, iterations = 240\n",
            "Seed = 2, train acc = 0.96190476, valid acc = 0.92307692, iterations = 220\n",
            "Seed = 3, train acc = 0.96190476, valid acc = 0.92307692, iterations = 300\n",
            "Seed = 4, train acc = 0.96190476, valid acc = 0.92307692, iterations = 195\n",
            "Seed = 5, train acc = 0.97142857, valid acc = 0.90384615, iterations = 300\n",
            "Seed = 6, train acc = 0.96190476, valid acc = 0.92307692, iterations = 210\n",
            "Seed = 7, train acc = 0.96190476, valid acc = 0.92307692, iterations = 205\n",
            "Seed = 8, train acc = 0.96190476, valid acc = 0.92307692, iterations = 250\n",
            "Seed = 9, train acc = 0.96190476, valid acc = 0.90384615, iterations = 290\n",
            "Number hidden units = 210, train acc = 0.96190476, max valid acc = 0.92307692\n",
            "Seed = 0, train acc = 0.96190476, valid acc = 0.92307692, iterations = 300\n",
            "Seed = 1, train acc = 0.96190476, valid acc = 0.92307692, iterations = 265\n",
            "Seed = 2, train acc = 0.96190476, valid acc = 0.92307692, iterations = 270\n",
            "Seed = 3, train acc = 0.96190476, valid acc = 0.90384615, iterations = 280\n",
            "Seed = 4, train acc = 0.96190476, valid acc = 0.92307692, iterations = 250\n",
            "Seed = 5, train acc = 0.96190476, valid acc = 0.92307692, iterations = 205\n",
            "Seed = 6, train acc = 0.96190476, valid acc = 0.92307692, iterations = 245\n",
            "Seed = 7, train acc = 0.96190476, valid acc = 0.92307692, iterations = 275\n",
            "Seed = 8, train acc = 0.96190476, valid acc = 0.90384615, iterations = 235\n",
            "Seed = 9, train acc = 0.97142857, valid acc = 0.90384615, iterations = 300\n",
            "Number hidden units = 230, train acc = 0.96190476, max valid acc = 0.92307692\n",
            "Seed = 0, train acc = 0.96190476, valid acc = 0.92307692, iterations = 200\n",
            "Seed = 1, train acc = 0.96190476, valid acc = 0.92307692, iterations = 205\n",
            "Seed = 2, train acc = 0.97142857, valid acc = 0.90384615, iterations = 290\n",
            "Seed = 3, train acc = 0.97142857, valid acc = 0.90384615, iterations = 295\n",
            "Seed = 4, train acc = 0.96190476, valid acc = 0.92307692, iterations = 245\n",
            "Seed = 5, train acc = 0.97142857, valid acc = 0.90384615, iterations = 300\n",
            "Seed = 6, train acc = 0.96190476, valid acc = 0.92307692, iterations = 210\n",
            "Seed = 7, train acc = 0.96190476, valid acc = 0.92307692, iterations = 215\n",
            "Seed = 8, train acc = 0.96190476, valid acc = 0.90384615, iterations = 275\n",
            "Seed = 9, train acc = 0.97142857, valid acc = 0.90384615, iterations = 300\n",
            "Number hidden units = 250, train acc = 0.96190476, max valid acc = 0.92307692\n",
            "Number of seconds for training: 68\n",
            "Best MLP valid accuracy: 92.30769231%\n",
            "Best MLP:  MLPClassifier(hidden_layer_sizes=(90,), learning_rate_init=0.005,\n",
            "              random_state=0, shuffle=False)\n"
          ]
        },
        {
          "output_type": "display_data",
          "data": {
            "text/plain": [
              "<Figure size 432x288 with 1 Axes>"
            ],
            "image/png": "[encoded data removed]"
          },
          "metadata": {
            "needs_background": "light"
          }
        }
      ]
    },
    {
      "cell_type": "markdown",
      "source": [
        "# 8. Resultados finales del mejor MLP"
      ],
      "metadata": {
        "id": "agnFqJU4Oo1I"
      }
    },
    {
      "cell_type": "markdown",
      "source": [
        "Por último, vamos a calcular los resultados finales para el mejor MLP obtenido."
      ],
      "metadata": {
        "id": "zUOEaNR3Otby"
      }
    },
    {
      "cell_type": "code",
      "source": [
        "predict_train = best_mlp.predict(input_train)\n",
        "predict_valid = best_mlp.predict(input_valid)\n",
        "predict_test = best_mlp.predict(input_test)\n",
        "\n",
        "print(\"Train accuracy: %.3f%%\" % (accuracy_score(target_train, predict_train) * 100))\n",
        "print(\"Valid accuracy: %.3f%%\" % (accuracy_score(target_valid, predict_valid) * 100))\n",
        "print(\"Test accuracy: %.3f%%\" % (accuracy_score(target_test, predict_test) * 100))\n",
        "\n",
        "print(\"Train confusion matrix:\")\n",
        "print(confusion_matrix(target_train, predict_train))\n",
        "print(\"Valid confusion matrix:\")\n",
        "print(confusion_matrix(target_valid, predict_valid))\n",
        "print(\"Test confusion matrix:\")\n",
        "print(confusion_matrix(target_test, predict_test))\n",
        "\n",
        "print(\"Train classification report:\")\n",
        "print(classification_report(target_train, predict_train))\n",
        "print(\"Valid classification report:\")\n",
        "print(classification_report(target_valid, predict_valid))\n",
        "print(\"Test classification report:\")\n",
        "print(classification_report(target_test, predict_test))"
      ],
      "metadata": {
        "colab": {
          "base_uri": "https://localhost:8080/"
        },
        "id": "DVqBo4UXOtiN",
        "outputId": "22800c1e-f49f-4678-f5ad-ba0495a38ea3"
      },
      "execution_count": 10,
      "outputs": [
        {
          "output_type": "stream",
          "name": "stdout",
          "text": [
            "Train accuracy: 95.238%\n",
            "Valid accuracy: 92.308%\n",
            "Test accuracy: 88.679%\n",
            "Train confusion matrix:\n",
            "[[32  0  2]\n",
            " [ 1 34  0]\n",
            " [ 2  0 34]]\n",
            "Valid confusion matrix:\n",
            "[[20  0  1]\n",
            " [ 2 12  0]\n",
            " [ 1  0 16]]\n",
            "Test confusion matrix:\n",
            "[[ 9  3  3]\n",
            " [ 0 21  0]\n",
            " [ 0  0 17]]\n",
            "Train classification report:\n",
            "              precision    recall  f1-score   support\n",
            "\n",
            "         1.0       0.91      0.94      0.93        34\n",
            "         2.0       1.00      0.97      0.99        35\n",
            "         3.0       0.94      0.94      0.94        36\n",
            "\n",
            "    accuracy                           0.95       105\n",
            "   macro avg       0.95      0.95      0.95       105\n",
            "weighted avg       0.95      0.95      0.95       105\n",
            "\n",
            "Valid classification report:\n",
            "              precision    recall  f1-score   support\n",
            "\n",
            "         1.0       0.87      0.95      0.91        21\n",
            "         2.0       1.00      0.86      0.92        14\n",
            "         3.0       0.94      0.94      0.94        17\n",
            "\n",
            "    accuracy                           0.92        52\n",
            "   macro avg       0.94      0.92      0.92        52\n",
            "weighted avg       0.93      0.92      0.92        52\n",
            "\n",
            "Test classification report:\n",
            "              precision    recall  f1-score   support\n",
            "\n",
            "         1.0       1.00      0.60      0.75        15\n",
            "         2.0       0.88      1.00      0.93        21\n",
            "         3.0       0.85      1.00      0.92        17\n",
            "\n",
            "    accuracy                           0.89        53\n",
            "   macro avg       0.91      0.87      0.87        53\n",
            "weighted avg       0.90      0.89      0.88        53\n",
            "\n"
          ]
        }
      ]
    },
    {
      "cell_type": "markdown",
      "source": [
        "Se ve que ha conservado unos valores de precisión bastante altos, y que la precisión del conjunto de testeo es menor que las otras dos; aunque es normal, pues es la primera vez que la red neuronal trabaja con esos datos.\n",
        "\n",
        "También obtenemos las curvas ROC, y se aprecia que la clase 1 es la que posee un valor más bajo de precisión."
      ],
      "metadata": {
        "id": "D6QVzYogO7OI"
      }
    },
    {
      "cell_type": "code",
      "source": [
        "mlp_probs = mlp.predict_proba(input_test)\n",
        "classes  = np.unique(target_train)\n",
        "mlp_auc = []\n",
        "mlp_fpr = []\n",
        "mlp_tpr = []\n",
        "for cla in classes:\n",
        "    mlp_auc.append(roc_auc_score(target_test==cla, mlp_probs[:,int(cla) - 1]))\n",
        "    fpr, tpr, _ = roc_curve(target_test==cla, mlp_probs[:,int(cla) - 1])\n",
        "    mlp_fpr.append(fpr)\n",
        "    mlp_tpr.append(tpr)\n",
        "\n",
        "# plot the roc curve for the model\n",
        "for cla in classes:\n",
        "    # plt.plot(ns_fpr, ns_tpr, linestyle='--', label='No Skill')\n",
        "    plt.plot(mlp_fpr[int(cla) - 1], mlp_tpr[int(cla) - 1], marker = '.', label = 'Class %d (AUC: %.5f)' % (cla, mlp_auc[int (cla) - 1]))\n",
        "\n",
        "plt.plot([0, 1], [0, 1], color = 'navy', linestyle = '--')\n",
        "plt.xlabel('False Positive Rate')\n",
        "plt.ylabel('True Positive Rate')\n",
        "plt.legend()\n",
        "plt.show()"
      ],
      "metadata": {
        "colab": {
          "base_uri": "https://localhost:8080/",
          "height": 279
        },
        "id": "8GJdkbggO6wQ",
        "outputId": "975fb68a-4852-440b-c4be-613ae4098218"
      },
      "execution_count": 12,
      "outputs": [
        {
          "output_type": "display_data",
          "data": {
            "text/plain": [
              "<Figure size 432x288 with 1 Axes>"
            ],
            "image/png": "[encoded data removed]"
          },
          "metadata": {
            "needs_background": "light"
          }
        }
      ]
    },
    {
      "cell_type": "markdown",
      "source": [
        "# 9. Conclusiones"
      ],
      "metadata": {
        "id": "HD4KMWK9O4qc"
      }
    },
    {
      "cell_type": "markdown",
      "source": [
        "Como ya se ha mencionado, aunque los resultados obtenidos sean aceptables, pues todas las precisiones del mejor MLP superan el 85%, la precisión del conjunto de testeo es menor que las otras; pero posiblemente es porque la red neuronal no había procesado esas instancias antes.\n",
        "\n",
        "Por otro lado, es importante resaltar que nuestro conjunto total de datos posee solo 210 instancias y 7 variables, sin contar la clase, por lo que esto también podría haber afectado negativamente a la fiabilidad y calidad de los modelos, como se puede ver en el perceptrón simple."
      ],
      "metadata": {
        "id": "UqfAr96QO6Ez"
      }
    }
  ]
}